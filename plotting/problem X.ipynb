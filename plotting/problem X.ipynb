{
 "cells": [
  {
   "cell_type": "code",
   "execution_count": 34,
   "metadata": {},
   "outputs": [
    {
     "data": {
      "text/plain": [
       "True"
      ]
     },
     "execution_count": 34,
     "metadata": {},
     "output_type": "execute_result"
    }
   ],
   "source": [
    "import numpy as np\n",
    "import matplotlib\n",
    "import matplotlib.pyplot as plt\n",
    "from matplotlib.animation import FuncAnimation\n",
    "import pyarma as arma\n",
    "\n",
    "path = 'prob7_u_cube_noV'\n",
    "u_cube = arma.cx_cube()\n",
    "u_cube.load(path)\n"
   ]
  },
  {
   "cell_type": "code",
   "execution_count": 35,
   "metadata": {},
   "outputs": [],
   "source": [
    "# Set up a 2D xy grid\n",
    "h = 0.005\n",
    "x_points = np.arange(0, 1, h)\n",
    "y_points = np.arange(0, 1, h)\n",
    "x, y = np.meshgrid(x_points, y_points, sparse=True)\n",
    "\n",
    "# Array of time points\n",
    "T = 0.002\n",
    "dt = 2.5e-5\n",
    "t_points = np.arange(0, T, dt)"
   ]
  },
  {
   "cell_type": "code",
   "execution_count": 36,
   "metadata": {},
   "outputs": [],
   "source": [
    "def z(cx_cube, t):\n",
    "\n",
    "    # Get the value at the specified indices\n",
    "    u_slice = cx_cube[arma.single_slice, t]\n",
    "    \n",
    "    u_mat = arma.cx_mat(u_slice)\n",
    "    \n",
    "    \n",
    "    # Return the value as a complex number\n",
    "    return arma.real(u_slice @ arma.conj(u_slice))"
   ]
  },
  {
   "cell_type": "code",
   "execution_count": 37,
   "metadata": {},
   "outputs": [],
   "source": [
    "# Fill z_data_list with f(x,y,t)\n",
    "z_data_list = []\n",
    "for t in range(u_cube.n_slices):\n",
    "    z_data = z(u_cube, t)\n",
    "    z_data_list.append(z_data)"
   ]
  },
  {
   "cell_type": "code",
   "execution_count": 38,
   "metadata": {},
   "outputs": [
    {
     "data": {
      "image/png": "[encoded data removed]",
      "text/plain": [
       "<Figure size 432x288 with 2 Axes>"
      ]
     },
     "metadata": {
      "needs_background": "light"
     },
     "output_type": "display_data"
    }
   ],
   "source": [
    "\n",
    "\n",
    "#\n",
    "# Now the list z_data_list contains a series of \"frames\" of z(x,y,t), \n",
    "# where each frame can be plotted as a 2D image using imshow. Let's\n",
    "# animate it!\n",
    "#\n",
    "\n",
    "# Some settings\n",
    "fontsize = 12\n",
    "t_min = t_points[0]\n",
    "x_min, x_max = x_points[0], x_points[-1]\n",
    "y_min, y_max = y_points[0], y_points[-1]\n",
    "\n",
    "# Create figure\n",
    "fig = plt.figure()\n",
    "ax = plt.gca()\n",
    "\n",
    "# Create a colour scale normalization according to the max z value in the first frame\n",
    "norm = matplotlib.cm.colors.Normalize(vmin=0.0, vmax=z_data_list[0].max())\n",
    "\n",
    "# Plot the first frame\n",
    "img = ax.imshow(z_data_list[0], extent=[x_min,x_max,y_min,y_max], cmap=plt.get_cmap(\"pink\"), norm=norm)\n",
    "\n",
    "# Axis labels\n",
    "plt.xlabel(\"x\", fontsize=fontsize)\n",
    "plt.ylabel(\"y\", fontsize=fontsize)\n",
    "plt.xticks(fontsize=fontsize)\n",
    "plt.yticks(fontsize=fontsize)\n",
    "\n",
    "# Add a colourbar\n",
    "cbar = fig.colorbar(img, ax=ax)\n",
    "cbar.set_label(\"p(x,y,t)\", fontsize=fontsize)\n",
    "cbar.ax.tick_params(labelsize=fontsize)\n",
    "\n",
    "# Add a text element showing the time\n",
    "time_txt = plt.text(0.95, 0.95, \"t = {:.3e}\".format(t_min), color=\"white\", \n",
    "                    horizontalalignment=\"right\", verticalalignment=\"top\", fontsize=fontsize)\n",
    "\n",
    "# Function that takes care of updating the z data and other things for each frame\n",
    "def animation(i):\n",
    "    # Normalize the colour scale to the current frame?\n",
    "    norm = matplotlib.cm.colors.Normalize(vmin=0.0, vmax=z_data_list[i].max())\n",
    "    img.set_norm(norm)\n",
    "\n",
    "    # Update z data\n",
    "    img.set_data(z_data_list[i])\n",
    "\n",
    "    # Update the time label\n",
    "    current_time = t_min + i * dt\n",
    "    time_txt.set_text(\"t = {:.3e}\".format(current_time))\n",
    "\n",
    "    return img\n",
    "\n",
    "# Use matplotlib.animation.FuncAnimation to put it all together\n",
    "anim = FuncAnimation(fig, animation, interval=1, frames=np.arange(0, len(z_data_list), 2), repeat=False, blit=0)\n",
    "\n",
    "# Run the animation!\n",
    "plt.show()\n",
    "\n",
    "# # Save the animation\n",
    "anim.save('./animation_noV.mp4', writer=\"ffmpeg\", bitrate=1000, fps=24, dpi=200)"
   ]
  },
  {
   "cell_type": "code",
   "execution_count": null,
   "metadata": {},
   "outputs": [],
   "source": []
  },
  {
   "cell_type": "code",
   "execution_count": null,
   "metadata": {},
   "outputs": [],
   "source": []
  },
  {
   "cell_type": "code",
   "execution_count": null,
   "metadata": {},
   "outputs": [],
   "source": []
  },
  {
   "cell_type": "code",
   "execution_count": null,
   "metadata": {},
   "outputs": [],
   "source": []
  }
 ],
 "metadata": {
  "kernelspec": {
   "display_name": "Python 3",
   "language": "python",
   "name": "python3"
  },
  "language_info": {
   "codemirror_mode": {
    "name": "ipython",
    "version": 3
   },
   "file_extension": ".py",
   "mimetype": "text/x-python",
   "name": "python",
   "nbconvert_exporter": "python",
   "pygments_lexer": "ipython3",
   "version": "3.7.9"
  }
 },
 "nbformat": 4,
 "nbformat_minor": 4
}
